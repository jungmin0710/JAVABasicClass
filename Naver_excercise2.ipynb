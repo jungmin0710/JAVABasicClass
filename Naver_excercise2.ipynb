{
  "nbformat": 4,
  "nbformat_minor": 0,
  "metadata": {
    "colab": {
      "name": "Naver_excercise2.ipynb",
      "provenance": [],
      "collapsed_sections": [],
      "authorship_tag": "ABX9TyPE79C/rveAMQHb6srN8iyW",
      "include_colab_link": true
    },
    "kernelspec": {
      "name": "python3",
      "display_name": "Python 3"
    }
  },
  "cells": [
    {
      "cell_type": "markdown",
      "metadata": {
        "id": "view-in-github",
        "colab_type": "text"
      },
      "source": [
        "<a href=\"https://colab.research.google.com/github/jungmin0710/JAVABasicClass/blob/main/Naver_excercise2.ipynb\" target=\"_parent\"><img src=\"https://colab.research.google.com/assets/colab-badge.svg\" alt=\"Open In Colab\"/></a>"
      ]
    },
    {
      "cell_type": "markdown",
      "metadata": {
        "id": "UZL6ZO5Ym1kq"
      },
      "source": [
        "네이버 개발자센터 사용하기 연습"
      ]
    },
    {
      "cell_type": "code",
      "metadata": {
        "id": "JDDtB3GylhfI"
      },
      "source": [
        "import urllib.request\n",
        "client_id = \"PcadxlHpoofakp4E0Kz5\"\n",
        "client_secret = \"P0qDLr6sEW\""
      ],
      "execution_count": null,
      "outputs": []
    },
    {
      "cell_type": "code",
      "metadata": {
        "id": "__zv-CNCmLX4",
        "outputId": "1283502d-c21c-4b21-f809-a6c36bad46da",
        "colab": {
          "base_uri": "https://localhost:8080/",
          "height": 35
        }
      },
      "source": [
        "encText = urllib.parse.quote(\"aaaa10432\")\n",
        "url = \"https://openapi.naver.com/v1/search/blog.json?query=\" + encText\n",
        "url"
      ],
      "execution_count": null,
      "outputs": [
        {
          "output_type": "execute_result",
          "data": {
            "application/vnd.google.colaboratory.intrinsic+json": {
              "type": "string"
            },
            "text/plain": [
              "'https://openapi.naver.com/v1/search/blog.json?query=aaaa10432'"
            ]
          },
          "metadata": {
            "tags": []
          },
          "execution_count": 6
        }
      ]
    },
    {
      "cell_type": "markdown",
      "metadata": {
        "id": "ueQt4FbNmpGW"
      },
      "source": [
        "urllib.parse.quote => 영어/한글 구분없이 단어를 utf-8에서 사용가능하도록 설정한다."
      ]
    },
    {
      "cell_type": "code",
      "metadata": {
        "id": "jZtMLqpamaTv"
      },
      "source": [
        "request = urllib.request.Request(url)\n",
        "request.add_header(\"X-Naver-Client-Id\", client_id)\n",
        "request.add_header(\"X-Naver-Client-Secret\", client_secret)"
      ],
      "execution_count": null,
      "outputs": []
    },
    {
      "cell_type": "code",
      "metadata": {
        "id": "chCirZ--nX2s",
        "outputId": "60d4b01b-a876-4b0e-b8bf-e8fc9ada19b9",
        "colab": {
          "base_uri": "https://localhost:8080/"
        }
      },
      "source": [
        "response = urllib.request.urlopen(request)\n",
        "print(response.getcode())   ## 200은 정상적인 접근이 허용됐다는 코드"
      ],
      "execution_count": null,
      "outputs": [
        {
          "output_type": "stream",
          "text": [
            "200\n"
          ],
          "name": "stdout"
        }
      ]
    },
    {
      "cell_type": "code",
      "metadata": {
        "id": "L6w2_gv4niZW",
        "outputId": "51c604bb-4e75-48db-e316-98d39d07b7db",
        "colab": {
          "base_uri": "https://localhost:8080/"
        }
      },
      "source": [
        "type(response)"
      ],
      "execution_count": null,
      "outputs": [
        {
          "output_type": "execute_result",
          "data": {
            "text/plain": [
              "http.client.HTTPResponse"
            ]
          },
          "metadata": {
            "tags": []
          },
          "execution_count": 9
        }
      ]
    },
    {
      "cell_type": "code",
      "metadata": {
        "id": "bVXEfAuYouLZ",
        "outputId": "1d228582-c606-4283-ee50-7185bb1a270c",
        "colab": {
          "base_uri": "https://localhost:8080/"
        }
      },
      "source": [
        "print(response.read().decode(\"utf-8\"))"
      ],
      "execution_count": null,
      "outputs": [
        {
          "output_type": "stream",
          "text": [
            "{\n",
            "\"lastBuildDate\": \"Tue, 10 Nov 2020 09:50:15 +0900\",\n",
            "\"total\": 70,\n",
            "\"start\": 1,\n",
            "\"display\": 10,\n",
            "\"items\": [\n",
            "{\n",
            "\"title\": \"턱걸이기구/치닝디핑/풀업밴드 '멜킨스포츠 마스터킹 치닝디핑... \",\n",
            "\"link\": \"https:\\/\\/blog.naver.com\\/aaaa10432?Redirect=Log&logNo=221536855854\",\n",
            "\"description\": \"턱걸이기구/치닝디핑/풀업밴드 멜킨스포츠 마스터킹 치닝디핑:운동방법♥ https://blog.naver.com/<b>aaaa10432</b>/221530390455 ↑ ↑ 멜킨스포츠 마스터킹 치닝디핑 개봉기는 여기서 확인하세요~ 초보자의 턱걸이... \",\n",
            "\"bloggername\": \"초이의파워블로그\",\n",
            "\"bloggerlink\": \"https://blog.naver.com/aaaa10432\",\n",
            "\"postdate\": \"20190514\"\n",
            "\n",
            "},\n",
            "{\n",
            "\"title\": \"수입아이스크림/고급아이스크림 '바세츠아이스크림(Feat.... \",\n",
            "\"link\": \"https:\\/\\/blog.naver.com\\/aaaa10432?Redirect=Log&logNo=221444666503\",\n",
            "\"description\": \"com/<b>aaaa10432</b>/221070043311 미국, 유럽, 중국에 이어 한국에서도 맛나볼 수 있게 된 바세츠아이스크림 마산에는 경남대점밖에 없어서 댓거리까지 아이스크림 먹으러 갔었는데 이제 그럴 필요 없다는거... \",\n",
            "\"bloggername\": \"초이의파워블로그\",\n",
            "\"bloggerlink\": \"https://blog.naver.com/aaaa10432\",\n",
            "\"postdate\": \"20190118\"\n",
            "\n",
            "},\n",
            "{\n",
            "\"title\": \"꽃과 함께하는 오랜만에 일상♡(꽃꽂이/영화/먹방/회식)\",\n",
            "\"link\": \"https:\\/\\/blog.naver.com\\/aaaa10432?Redirect=Log&logNo=221413352154\",\n",
            "\"description\": \"요즘 핫한 창원마산키즈미용실 댓거리 #와우키즈헤어 에서 ↓ ↓ https://blog.naver.com/<b>aaaa10432</b>/221397243531 &amp; #일상 #일상이야기 #겨울일상 #11월일상 #12월일상 즐거운 일상이였다! 앞으로도 쭉 행복하길♥\",\n",
            "\"bloggername\": \"초이의파워블로그\",\n",
            "\"bloggerlink\": \"https://blog.naver.com/aaaa10432\",\n",
            "\"postdate\": \"20181206\"\n",
            "\n",
            "},\n",
            "{\n",
            "\"title\": \"네이버메인에 내꺼가 떴어요!\",\n",
            "\"link\": \"https:\\/\\/blog.naver.com\\/aaaa10432?Redirect=Log&logNo=221377040380\",\n",
            "\"description\": \"(나 이런적 처음이라 자랑질 좀 하러 왔어요ㅎㅎ) 네이버메인에 내 글이 떴어요♡ https://blog.naver.com/<b>aaaa10432</b>/221370469755 '' ↑ ↑ 아직 못보신 분들은 클릭 밀양카페/밀양핫플신상카페 '메나쥬(Menage)... \",\n",
            "\"bloggername\": \"초이의파워블로그\",\n",
            "\"bloggerlink\": \"https://blog.naver.com/aaaa10432\",\n",
            "\"postdate\": \"20181014\"\n",
            "\n",
            "},\n",
            "{\n",
            "\"title\": \"창원상남동맛집/상남동고기집 '항우돈'\",\n",
            "\"link\": \"https:\\/\\/blog.naver.com\\/aaaa10432?Redirect=Log&logNo=220834265964\",\n",
            "\"description\": \"com/<b>aaaa10432</b>/220646906821 저번에 항아리 숙성 양념갈비를 너무 맛있게 먹고 와서 이번엔 오겹살먹으러 출동 창원 상남동 맛집 항우돈 내부/분위기 들어갔을땐 손님이 너무 많아서 못찍고 다먹고 우리가 거의... \",\n",
            "\"bloggername\": \"초이의파워블로그\",\n",
            "\"bloggerlink\": \"https://blog.naver.com/aaaa10432\",\n",
            "\"postdate\": \"20161012\"\n",
            "\n",
            "},\n",
            "{\n",
            "\"title\": \"창원대맛집/사림동맛집 '두유라이크'\",\n",
            "\"link\": \"https:\\/\\/blog.naver.com\\/aaaa10432?Redirect=Log&logNo=220758174862\",\n",
            "\"description\": \"http://blog.naver.com/<b>aaaa10432</b>/220758163963 미술관 데이트후 근처맛집을 찾다가 선택한 이곳! 창원맛집 창원맛집추천 창원대맛집 창원대맛집추천 창원대근처맛집 사림동맛집 사림동맛집추천 경남도립미술관맛집... \",\n",
            "\"bloggername\": \"초이의파워블로그\",\n",
            "\"bloggerlink\": \"https://blog.naver.com/aaaa10432\",\n",
            "\"postdate\": \"20160712\"\n",
            "\n",
            "},\n",
            "{\n",
            "\"title\": \"제주도여행)제주하귀맛집/애월해안도로맛집 '칠사돈'\",\n",
            "\"link\": \"https:\\/\\/blog.naver.com\\/aaaa10432?Redirect=Log&logNo=220881861441\",\n",
            "\"description\": \"제주도여행일정/제주도여행코스/제주도여행코스추천/제주도여행루트 http://blog.naver.com/<b>aaaa10432</b>/220880995743 개똥이네 감귤농장에서 감귤체험 열심히 하고 키친오즈/새별오름 들렸다가 맛있는 제주돼지 먹으러... \",\n",
            "\"bloggername\": \"초이의파워블로그\",\n",
            "\"bloggerlink\": \"https://blog.naver.com/aaaa10432\",\n",
            "\"postdate\": \"20161209\"\n",
            "\n",
            "},\n",
            "{\n",
            "\"title\": \"서울여행/서울가볼만한곳)한남동'구슬모아당구장' 무료전시장\",\n",
            "\"link\": \"https:\\/\\/blog.naver.com\\/aaaa10432?Redirect=Log&logNo=220716907035\",\n",
            "\"description\": \"com/<b>aaaa10432</b>/220717857294 주차 tip. 난 한남동 5마일에서 점심먹고 구슬모아당구장 전시 구경하러 갔다 왜냐! 한남동 5마일에서 밥먹으면 건물 주차장 두시간 무료이기 때문! 구슬모아당구장 전시를 보실거면... \",\n",
            "\"bloggername\": \"초이의파워블로그\",\n",
            "\"bloggerlink\": \"https://blog.naver.com/aaaa10432\",\n",
            "\"postdate\": \"20160523\"\n",
            "\n",
            "},\n",
            "{\n",
            "\"title\": \"창원카페/창원롯데백화점맛집 '카페 도레도레'\",\n",
            "\"link\": \"https:\\/\\/blog.naver.com\\/aaaa10432?Redirect=Log&logNo=220845002182\",\n",
            "\"description\": \"naver.com/<b>aaaa10432</b>/220319632106 이때만 해도 내가 창원가면 도레도레 오픈하고 싶다고 그런 꿈을 가지고 있었는데 현실은.. 난 여전히 먹으러 가고 있다 창원 도레도레는 내가 처음으로 오픈하고 싶었는데\",\n",
            "\"bloggername\": \"초이의파워블로그\",\n",
            "\"bloggerlink\": \"https://blog.naver.com/aaaa10432\",\n",
            "\"postdate\": \"20161025\"\n",
            "\n",
            "},\n",
            "{\n",
            "\"title\": \"창원상남동맛집 창원 레스토랑/창원 스테이크 'cookhouse... \",\n",
            "\"link\": \"https:\\/\\/blog.naver.com\\/aaaa10432?Redirect=Log&logNo=220715489836\",\n",
            "\"description\": \"'테이킹'이였을때 샤브샤브 월남쌈 먹고 왔었는데 ↓↓ http://blog.naver.com/<b>aaaa10432</b>/220414032827 새롭게 변신한 '쿡하우스&amp;월남쌈' 에서는 파스타 스테이크 피자 리조또도 즐길수 있다고 해서 이번엔 스테이크... \",\n",
            "\"bloggername\": \"초이의파워블로그\",\n",
            "\"bloggerlink\": \"https://blog.naver.com/aaaa10432\",\n",
            "\"postdate\": \"20160521\"\n",
            "\n",
            "}\n",
            "]\n",
            "}\n",
            "\n"
          ],
          "name": "stdout"
        }
      ]
    },
    {
      "cell_type": "markdown",
      "metadata": {
        "id": "ERPXnQtlpfup"
      },
      "source": [
        "**사전문법정리하기**"
      ]
    },
    {
      "cell_type": "code",
      "metadata": {
        "id": "ZBb2hv2qoxyJ",
        "outputId": "f7b9c5f9-e296-4940-803a-448217a198e1",
        "colab": {
          "base_uri": "https://localhost:8080/"
        }
      },
      "source": [
        "for n in [1,2,3]:\n",
        "  print(n**2)  #반복문 기본문형(들여쓰기 주의할 것)"
      ],
      "execution_count": null,
      "outputs": [
        {
          "output_type": "stream",
          "text": [
            "1\n",
            "4\n",
            "9\n"
          ],
          "name": "stdout"
        }
      ]
    },
    {
      "cell_type": "code",
      "metadata": {
        "id": "DntImEejpwXl",
        "outputId": "115362db-c7df-4b56-c99c-112bf7e86cc7",
        "colab": {
          "base_uri": "https://localhost:8080/"
        }
      },
      "source": [
        "#리스트 축약\n",
        "[n**2 for n in range(1,6)]"
      ],
      "execution_count": null,
      "outputs": [
        {
          "output_type": "execute_result",
          "data": {
            "text/plain": [
              "[1, 4, 9, 16, 25]"
            ]
          },
          "metadata": {
            "tags": []
          },
          "execution_count": 14
        }
      ]
    },
    {
      "cell_type": "code",
      "metadata": {
        "id": "n_KpYnpDqLxJ",
        "outputId": "2f256fc9-0fd5-41cc-a4b9-0b5c7b285346",
        "colab": {
          "base_uri": "https://localhost:8080/"
        }
      },
      "source": [
        "#함수 만들기(재활용이 용이)\n",
        "def get_square(n):\n",
        "  return n**2\n",
        "\n",
        "get_square(5)"
      ],
      "execution_count": null,
      "outputs": [
        {
          "output_type": "execute_result",
          "data": {
            "text/plain": [
              "25"
            ]
          },
          "metadata": {
            "tags": []
          },
          "execution_count": 16
        }
      ]
    },
    {
      "cell_type": "code",
      "metadata": {
        "id": "SVoLjKeTqfaM",
        "outputId": "270ff9b4-405f-401e-ed23-870cd57213aa",
        "colab": {
          "base_uri": "https://localhost:8080/"
        }
      },
      "source": [
        "#함수와 리스트축약\n",
        "[get_square(n) for n in [1,2,3,4]]"
      ],
      "execution_count": null,
      "outputs": [
        {
          "output_type": "execute_result",
          "data": {
            "text/plain": [
              "[1, 4, 9, 16]"
            ]
          },
          "metadata": {
            "tags": []
          },
          "execution_count": 17
        }
      ]
    },
    {
      "cell_type": "markdown",
      "metadata": {
        "id": "8rbNDUderGkb"
      },
      "source": [
        "네이버 책 정보 가져오기"
      ]
    },
    {
      "cell_type": "code",
      "metadata": {
        "id": "81w-udo2q1Oz"
      },
      "source": [
        "def create_url(api_node, search_text, start_num, disp_num):\n",
        "  base = \"https://openapi.naver.com/v1/search\"\n",
        "  node = \"/\" + api_node + \".json\"\n",
        "  param_query = \"?query=\" + urllib.parse.quote(search_text)\n",
        "  param_start = \"&start=\" + str(start_num)\n",
        "  param_disp = \"&display\" + str(disp_num)\n",
        "  return base + node + param_query + param_start + param_disp"
      ],
      "execution_count": null,
      "outputs": []
    },
    {
      "cell_type": "code",
      "metadata": {
        "id": "W6RBYxz7svf9",
        "outputId": "80600499-3d48-4d38-ae7d-dbc247f3a954",
        "colab": {
          "base_uri": "https://localhost:8080/",
          "height": 35
        }
      },
      "source": [
        "create_url(\"book\",\"TEST\",1,10)"
      ],
      "execution_count": null,
      "outputs": [
        {
          "output_type": "execute_result",
          "data": {
            "application/vnd.google.colaboratory.intrinsic+json": {
              "type": "string"
            },
            "text/plain": [
              "'https://openapi.naver.com/v1/search/book.json?query=TEST&start=1&display10'"
            ]
          },
          "metadata": {
            "tags": []
          },
          "execution_count": 20
        }
      ]
    },
    {
      "cell_type": "code",
      "metadata": {
        "id": "leOqfPKEtL_q"
      },
      "source": [
        "import json"
      ],
      "execution_count": null,
      "outputs": []
    },
    {
      "cell_type": "code",
      "metadata": {
        "id": "qvh2OLfLtiMq"
      },
      "source": [
        "url = create_url(\"book\",\"파이썬\",1,3)"
      ],
      "execution_count": null,
      "outputs": []
    },
    {
      "cell_type": "code",
      "metadata": {
        "id": "BeyIjlKFtt4_"
      },
      "source": [
        "request = urllib.request.Request(url)\n",
        "request.add_header(\"X-Naver-Client-Id\", client_id)\n",
        "request.add_header(\"X-Naver-Client-Secret\", client_secret)"
      ],
      "execution_count": null,
      "outputs": []
    },
    {
      "cell_type": "markdown",
      "metadata": {
        "id": "N1can0LIt3V9"
      },
      "source": [
        "접근할 때마다 인증을 받아야 한다."
      ]
    },
    {
      "cell_type": "code",
      "metadata": {
        "id": "8QMrGd8Rt2qI",
        "outputId": "492ef9bd-c689-41a9-e644-7e4ee475d1e2",
        "colab": {
          "base_uri": "https://localhost:8080/"
        }
      },
      "source": [
        "response = urllib.request.urlopen(request)\n",
        "result = json.loads(response.read().decode('utf-8'))\n",
        "result"
      ],
      "execution_count": null,
      "outputs": [
        {
          "output_type": "execute_result",
          "data": {
            "text/plain": [
              "{'display': 10,\n",
              " 'items': [{'author': '나동빈',\n",
              "   'description': '8가지 핵심 알고리즘 이론을 쉽게 설명하고, 관련 실전 문제를 풀이했다. 출제 유형 분석, 이론 설명, 기출문제 풀이까지! 어떤 코딩 테스트도 이 책 한 권으로 대비할 수 있을 것이다. 코딩 테스트에서 주로 선택하는 <b>파이썬</b>을 기반으로 설명되어 있으며, <b>파이썬</b> 코드 외에도 C/C++, 자바 코드를 추가로 제공한다.',\n",
              "   'discount': '30600',\n",
              "   'image': 'https://bookthumb-phinf.pstatic.net/cover/164/391/16439154.jpg?type=m1&udate=20200928',\n",
              "   'isbn': '1162243074 9791162243077',\n",
              "   'link': 'http://book.naver.com/bookdb/book_detail.php?bid=16439154',\n",
              "   'price': '34000',\n",
              "   'pubdate': '20200805',\n",
              "   'publisher': '한빛미디어',\n",
              "   'title': '이것이 취업을 위한 코딩 테스트다 with <b>파이썬</b> (취업과 이직을 결정하는 알고리즘 인터뷰 완벽 가이드, C/C++, 자바 코드 제공)'},\n",
              "  {'author': '박상길',\n",
              "   'description': '물론, <b>파이썬</b>으로 구현하는 코드 풀이를 통해 성능 최적화 기법, <b>파이썬</b>의 핵심 문법과 다양한 실용 테크닉까지 배울 수 있는, 초보 개발자와 숙련 개발자... 이 책은 현업과 실무에 유용한 주요 알고리즘 이론을 깊숙이 이해하고, <b>파이썬</b>의 핵심 기능과 문법까지 상세하게 이해할 수 있는 취업용 코딩 테스트를... ',\n",
              "   'discount': '34200',\n",
              "   'image': 'https://bookthumb-phinf.pstatic.net/cover/164/062/16406247.jpg?type=m1&udate=20201028',\n",
              "   'isbn': '1189909170 9791189909178',\n",
              "   'link': 'http://book.naver.com/bookdb/book_detail.php?bid=16406247',\n",
              "   'price': '38000',\n",
              "   'pubdate': '20200715',\n",
              "   'publisher': '책만',\n",
              "   'title': '<b>파이썬</b> 알고리즘 인터뷰 (95가지 알고리즘 문제 풀이로 완성하는 코딩 테스트)'},\n",
              "  {'author': '윤인성',\n",
              "   'description': '1:1 과외하듯 배우는 <b>파이썬</b> 프로그래밍 자습서(<b>파이썬</b> 최신 버전 반영)\\n이 책은 독학으로 프로그래밍 언어를 처음 배우려는 입문자가, 혹은 <b>파이썬</b>을 배우려는 입문자가 ‘꼭 필요한 내용을 제대로’ 학습할 수 있도록 구성했다. ‘무엇을’, ‘어떻게’ 학습해야 할지조차 모르는 입문자의 막연한 마음을 살펴... ',\n",
              "   'discount': '16200',\n",
              "   'image': 'https://bookthumb-phinf.pstatic.net/cover/150/286/15028688.jpg?type=m1&udate=20200915',\n",
              "   'isbn': '1162241888 9791162241882',\n",
              "   'link': 'http://book.naver.com/bookdb/book_detail.php?bid=15028688',\n",
              "   'price': '18000',\n",
              "   'pubdate': '20190610',\n",
              "   'publisher': '한빛미디어',\n",
              "   'title': '혼자 공부하는 <b>파이썬</b> (<b>파이썬</b> 최신 버전 반영)'},\n",
              "  {'author': '박응용',\n",
              "   'description': '<b>파이썬</b> 4년 연속 베스트셀러 1위!\\n《DO IT! 점프 투 <b>파이썬</b>》 전면 개정판 출시!문과생도 중고등학생도 직장인도 프로그래밍에 눈뜨게 만든 바로 그 책이... 점프 투 <b>파이썬</b>》으로 출간되었던 이 책은 약 4년 동안의 피드백을 반영하여 초보자가 더 빠르게 입문하고, 더 깊이 있게 공부할 수 있도록 개정되었다.... ',\n",
              "   'discount': '16920',\n",
              "   'image': 'https://bookthumb-phinf.pstatic.net/cover/150/529/15052904.jpg?type=m1&udate=20200910',\n",
              "   'isbn': '1163030910 9791163030911',\n",
              "   'link': 'http://book.naver.com/bookdb/book_detail.php?bid=15052904',\n",
              "   'price': '18800',\n",
              "   'pubdate': '20190620',\n",
              "   'publisher': '이지스퍼블리싱',\n",
              "   'title': 'Do it! 점프 투 <b>파이썬</b>'},\n",
              "  {'author': '김황후',\n",
              "   'description': \"웹 스크레이핑으로 증권 데이터를 주기적으로 자동 수집, 분석, 자동 매매, 예측하는 전 과정을 <b>파이썬</b>으로 직접 구현한다. 그 과정에서 금융 데이터 처리... 이 책은 1부 '<b>파이썬</b> 데이터 분석 기본'과 2부 '<b>파이썬</b> 데이터 분석 응용'으로 구성되어 있다. 1부에서는 <b>파이썬</b>과 각종 라이브러리를 사용해서 데이터를... \",\n",
              "   'discount': '28800',\n",
              "   'image': 'https://bookthumb-phinf.pstatic.net/cover/163/819/16381920.jpg?type=m1&udate=20200916',\n",
              "   'isbn': '1162243201 9791162243206',\n",
              "   'link': 'http://book.naver.com/bookdb/book_detail.php?bid=16381920',\n",
              "   'price': '32000',\n",
              "   'pubdate': '20200701',\n",
              "   'publisher': '한빛미디어',\n",
              "   'title': '<b>파이썬</b> 증권 데이터 분석 (<b>파이썬</b> 입문, 웹 스크레이핑, 트레이딩 전략, 자동 매매)'},\n",
              "  {'author': '권철민',\n",
              "   'description': '자세한 이론 설명과 <b>파이썬</b> 실습을 통해 머신러닝을 완벽하게 배울 수 있습니다!《<b>파이썬</b> 머신러닝 완벽 가이드》는 이론 위주의 머신러닝 책에서 탈피해 다양한 실전 예제를 직접 구현해 보면서 머신러닝을 체득할 수 있도록 만들었습니다.  캐글과 UCI 머신러닝 리포지토리에서 난이도가 있는 실습... ',\n",
              "   'discount': '34200',\n",
              "   'image': 'https://bookthumb-phinf.pstatic.net/cover/162/383/16238302.jpg?type=m1&udate=20200423',\n",
              "   'isbn': '1158391927 9791158391928',\n",
              "   'link': 'http://book.naver.com/bookdb/book_detail.php?bid=16238302',\n",
              "   'price': '38000',\n",
              "   'pubdate': '20200207',\n",
              "   'publisher': '위키북스',\n",
              "   'title': '<b>파이썬</b> 머신러닝 완벽 가이드 (다양한 캐글 예제와 함께 기초 알고리즘부터 최신 기법까지 배우는)'},\n",
              "  {'author': '우재남',\n",
              "   'description': '① 기본으로 필요한 내용만 쉽게 담았습니다\\n② IT 비전공자나 저학년 학생들에게 공통으로 필요한 기능 위주로 담되, 후반부에는 IT 관련 학과나 실무자에게도 도움이 되는 심화 내용을 일부 담아 수강생 수준에 따라 다양하게 활용할 수 있습니다.\\n③ 장별로 작은 프로그램 2개를 만들면서 주요 문법을... ',\n",
              "   'discount': '22770',\n",
              "   'image': 'https://bookthumb-phinf.pstatic.net/cover/158/717/15871779.jpg?type=m1&udate=20200912',\n",
              "   'isbn': '1156644666 9791156644668',\n",
              "   'link': 'http://book.naver.com/bookdb/book_detail.php?bid=15871779',\n",
              "   'price': '23000',\n",
              "   'pubdate': '20200106',\n",
              "   'publisher': '한빛아카데미',\n",
              "   'title': '<b>파이썬</b> for Beginner (쉽고 빠르게 익히는 프로그래밍의 기본 원리)'},\n",
              "  {'author': '김창현',\n",
              "   'description': '집필한 <b>파이썬</b> 생활 프로그래밍 책!\\n웹 크롤링부터 데이터 분석까지, 11가지 프로그램을 내 손으로 직접 만든다!\\n이 책은 생활 프로그래머 김창현 박사가 일상과 업무에서 <b>파이썬</b> 프로그래밍을 활용한 경험을... 이 프로그램들은 <b>파이썬</b> 문법을 한 번이라도 배운 적이 있는 사람이라면 누구나 따라 할 수 있는... ',\n",
              "   'discount': '18000',\n",
              "   'image': 'https://bookthumb-phinf.pstatic.net/cover/164/370/16437083.jpg?type=m1&udate=20200902',\n",
              "   'isbn': '1163031739 9791163031734',\n",
              "   'link': 'http://book.naver.com/bookdb/book_detail.php?bid=16437083',\n",
              "   'price': '20000',\n",
              "   'pubdate': '20200727',\n",
              "   'publisher': '이지스퍼블리싱',\n",
              "   'title': 'Do it! <b>파이썬</b> 생활 프로그래밍 (웹 크롤링부터 데이터 분석까지 내 손으로 직접 만든다!)'},\n",
              "  {'author': '송석리|이현아',\n",
              "   'description': '데이터 다운로드부터 정제, 문제 해결 방법 구상, <b>파이썬</b> 코드로 구현까지 차근차근 진행하면서, 초보자가 데이터 분석의 성공적인 첫걸음을 내딛도록... 최소한의 <b>파이썬</b> 문법만을 사용하여 설명하므로 프로그래밍 경험이 적은 사람도 충분히 따라 할 수 있습니다. 이제 데이터 분석 전문가가 아니어도, 자신의... ',\n",
              "   'discount': '16200',\n",
              "   'image': 'https://bookthumb-phinf.pstatic.net/cover/148/205/14820571.jpg?type=m1&udate=20200916',\n",
              "   'isbn': '1160507813 9791160507812',\n",
              "   'link': 'http://book.naver.com/bookdb/book_detail.php?bid=14820571',\n",
              "   'price': '18000',\n",
              "   'pubdate': '20190425',\n",
              "   'publisher': '길벗',\n",
              "   'title': '모두의 데이터 분석 with <b>파이썬</b> (실생활 예제로 시작하는 데이터 분석 첫걸음)'},\n",
              "  {'author': '이승찬',\n",
              "   'description': '<b>파이썬</b> 분야 & 어린이 코딩 교육 분야\\n2년 연속 베스트셀러! 개정판 출간!\\n\\n즐겁게 시작하는 나의 첫 프로그래밍!\\n프로그래밍을 한 번도 해본 적이 없어도 괜찮다. <b>파이썬</b>이 무엇인지 몰라도 상관 없다.... 어느새 <b>파이썬</b> 프로그램으로 멋진 그림을 그리고, 계산을 하고, 간단한 게임을 만들고, 수학 문제를... ',\n",
              "   'discount': '10800',\n",
              "   'image': 'https://bookthumb-phinf.pstatic.net/cover/141/261/14126163.jpg?type=m1&udate=20181105',\n",
              "   'isbn': '1160505853 9791160505856',\n",
              "   'link': 'http://book.naver.com/bookdb/book_detail.php?bid=14126163',\n",
              "   'price': '12000',\n",
              "   'pubdate': '20181009',\n",
              "   'publisher': '길벗',\n",
              "   'title': '모두의 <b>파이썬</b> (20일 만에 배우는 프로그래밍 기초)'}],\n",
              " 'lastBuildDate': 'Tue, 10 Nov 2020 10:15:35 +0900',\n",
              " 'start': 1,\n",
              " 'total': 1152}"
            ]
          },
          "metadata": {
            "tags": []
          },
          "execution_count": 27
        }
      ]
    },
    {
      "cell_type": "code",
      "metadata": {
        "id": "Ymyx4M3kuIWw",
        "outputId": "3ec6baff-6461-4b5e-900b-810193bf0094",
        "colab": {
          "base_uri": "https://localhost:8080/"
        }
      },
      "source": [
        "result[\"display\"]"
      ],
      "execution_count": null,
      "outputs": [
        {
          "output_type": "execute_result",
          "data": {
            "text/plain": [
              "10"
            ]
          },
          "metadata": {
            "tags": []
          },
          "execution_count": 29
        }
      ]
    },
    {
      "cell_type": "code",
      "metadata": {
        "id": "yPNQ2eB3yLsB",
        "outputId": "e9da9b7f-21af-40b1-8f96-efaf131e9a21",
        "colab": {
          "base_uri": "https://localhost:8080/"
        }
      },
      "source": [
        "result[\"items\"]"
      ],
      "execution_count": null,
      "outputs": [
        {
          "output_type": "execute_result",
          "data": {
            "text/plain": [
              "[{'author': '나동빈',\n",
              "  'description': '8가지 핵심 알고리즘 이론을 쉽게 설명하고, 관련 실전 문제를 풀이했다. 출제 유형 분석, 이론 설명, 기출문제 풀이까지! 어떤 코딩 테스트도 이 책 한 권으로 대비할 수 있을 것이다. 코딩 테스트에서 주로 선택하는 <b>파이썬</b>을 기반으로 설명되어 있으며, <b>파이썬</b> 코드 외에도 C/C++, 자바 코드를 추가로 제공한다.',\n",
              "  'discount': '30600',\n",
              "  'image': 'https://bookthumb-phinf.pstatic.net/cover/164/391/16439154.jpg?type=m1&udate=20200928',\n",
              "  'isbn': '1162243074 9791162243077',\n",
              "  'link': 'http://book.naver.com/bookdb/book_detail.php?bid=16439154',\n",
              "  'price': '34000',\n",
              "  'pubdate': '20200805',\n",
              "  'publisher': '한빛미디어',\n",
              "  'title': '이것이 취업을 위한 코딩 테스트다 with <b>파이썬</b> (취업과 이직을 결정하는 알고리즘 인터뷰 완벽 가이드, C/C++, 자바 코드 제공)'},\n",
              " {'author': '박상길',\n",
              "  'description': '물론, <b>파이썬</b>으로 구현하는 코드 풀이를 통해 성능 최적화 기법, <b>파이썬</b>의 핵심 문법과 다양한 실용 테크닉까지 배울 수 있는, 초보 개발자와 숙련 개발자... 이 책은 현업과 실무에 유용한 주요 알고리즘 이론을 깊숙이 이해하고, <b>파이썬</b>의 핵심 기능과 문법까지 상세하게 이해할 수 있는 취업용 코딩 테스트를... ',\n",
              "  'discount': '34200',\n",
              "  'image': 'https://bookthumb-phinf.pstatic.net/cover/164/062/16406247.jpg?type=m1&udate=20201028',\n",
              "  'isbn': '1189909170 9791189909178',\n",
              "  'link': 'http://book.naver.com/bookdb/book_detail.php?bid=16406247',\n",
              "  'price': '38000',\n",
              "  'pubdate': '20200715',\n",
              "  'publisher': '책만',\n",
              "  'title': '<b>파이썬</b> 알고리즘 인터뷰 (95가지 알고리즘 문제 풀이로 완성하는 코딩 테스트)'},\n",
              " {'author': '윤인성',\n",
              "  'description': '1:1 과외하듯 배우는 <b>파이썬</b> 프로그래밍 자습서(<b>파이썬</b> 최신 버전 반영)\\n이 책은 독학으로 프로그래밍 언어를 처음 배우려는 입문자가, 혹은 <b>파이썬</b>을 배우려는 입문자가 ‘꼭 필요한 내용을 제대로’ 학습할 수 있도록 구성했다. ‘무엇을’, ‘어떻게’ 학습해야 할지조차 모르는 입문자의 막연한 마음을 살펴... ',\n",
              "  'discount': '16200',\n",
              "  'image': 'https://bookthumb-phinf.pstatic.net/cover/150/286/15028688.jpg?type=m1&udate=20200915',\n",
              "  'isbn': '1162241888 9791162241882',\n",
              "  'link': 'http://book.naver.com/bookdb/book_detail.php?bid=15028688',\n",
              "  'price': '18000',\n",
              "  'pubdate': '20190610',\n",
              "  'publisher': '한빛미디어',\n",
              "  'title': '혼자 공부하는 <b>파이썬</b> (<b>파이썬</b> 최신 버전 반영)'},\n",
              " {'author': '박응용',\n",
              "  'description': '<b>파이썬</b> 4년 연속 베스트셀러 1위!\\n《DO IT! 점프 투 <b>파이썬</b>》 전면 개정판 출시!문과생도 중고등학생도 직장인도 프로그래밍에 눈뜨게 만든 바로 그 책이... 점프 투 <b>파이썬</b>》으로 출간되었던 이 책은 약 4년 동안의 피드백을 반영하여 초보자가 더 빠르게 입문하고, 더 깊이 있게 공부할 수 있도록 개정되었다.... ',\n",
              "  'discount': '16920',\n",
              "  'image': 'https://bookthumb-phinf.pstatic.net/cover/150/529/15052904.jpg?type=m1&udate=20200910',\n",
              "  'isbn': '1163030910 9791163030911',\n",
              "  'link': 'http://book.naver.com/bookdb/book_detail.php?bid=15052904',\n",
              "  'price': '18800',\n",
              "  'pubdate': '20190620',\n",
              "  'publisher': '이지스퍼블리싱',\n",
              "  'title': 'Do it! 점프 투 <b>파이썬</b>'},\n",
              " {'author': '김황후',\n",
              "  'description': \"웹 스크레이핑으로 증권 데이터를 주기적으로 자동 수집, 분석, 자동 매매, 예측하는 전 과정을 <b>파이썬</b>으로 직접 구현한다. 그 과정에서 금융 데이터 처리... 이 책은 1부 '<b>파이썬</b> 데이터 분석 기본'과 2부 '<b>파이썬</b> 데이터 분석 응용'으로 구성되어 있다. 1부에서는 <b>파이썬</b>과 각종 라이브러리를 사용해서 데이터를... \",\n",
              "  'discount': '28800',\n",
              "  'image': 'https://bookthumb-phinf.pstatic.net/cover/163/819/16381920.jpg?type=m1&udate=20200916',\n",
              "  'isbn': '1162243201 9791162243206',\n",
              "  'link': 'http://book.naver.com/bookdb/book_detail.php?bid=16381920',\n",
              "  'price': '32000',\n",
              "  'pubdate': '20200701',\n",
              "  'publisher': '한빛미디어',\n",
              "  'title': '<b>파이썬</b> 증권 데이터 분석 (<b>파이썬</b> 입문, 웹 스크레이핑, 트레이딩 전략, 자동 매매)'},\n",
              " {'author': '권철민',\n",
              "  'description': '자세한 이론 설명과 <b>파이썬</b> 실습을 통해 머신러닝을 완벽하게 배울 수 있습니다!《<b>파이썬</b> 머신러닝 완벽 가이드》는 이론 위주의 머신러닝 책에서 탈피해 다양한 실전 예제를 직접 구현해 보면서 머신러닝을 체득할 수 있도록 만들었습니다.  캐글과 UCI 머신러닝 리포지토리에서 난이도가 있는 실습... ',\n",
              "  'discount': '34200',\n",
              "  'image': 'https://bookthumb-phinf.pstatic.net/cover/162/383/16238302.jpg?type=m1&udate=20200423',\n",
              "  'isbn': '1158391927 9791158391928',\n",
              "  'link': 'http://book.naver.com/bookdb/book_detail.php?bid=16238302',\n",
              "  'price': '38000',\n",
              "  'pubdate': '20200207',\n",
              "  'publisher': '위키북스',\n",
              "  'title': '<b>파이썬</b> 머신러닝 완벽 가이드 (다양한 캐글 예제와 함께 기초 알고리즘부터 최신 기법까지 배우는)'},\n",
              " {'author': '우재남',\n",
              "  'description': '① 기본으로 필요한 내용만 쉽게 담았습니다\\n② IT 비전공자나 저학년 학생들에게 공통으로 필요한 기능 위주로 담되, 후반부에는 IT 관련 학과나 실무자에게도 도움이 되는 심화 내용을 일부 담아 수강생 수준에 따라 다양하게 활용할 수 있습니다.\\n③ 장별로 작은 프로그램 2개를 만들면서 주요 문법을... ',\n",
              "  'discount': '22770',\n",
              "  'image': 'https://bookthumb-phinf.pstatic.net/cover/158/717/15871779.jpg?type=m1&udate=20200912',\n",
              "  'isbn': '1156644666 9791156644668',\n",
              "  'link': 'http://book.naver.com/bookdb/book_detail.php?bid=15871779',\n",
              "  'price': '23000',\n",
              "  'pubdate': '20200106',\n",
              "  'publisher': '한빛아카데미',\n",
              "  'title': '<b>파이썬</b> for Beginner (쉽고 빠르게 익히는 프로그래밍의 기본 원리)'},\n",
              " {'author': '김창현',\n",
              "  'description': '집필한 <b>파이썬</b> 생활 프로그래밍 책!\\n웹 크롤링부터 데이터 분석까지, 11가지 프로그램을 내 손으로 직접 만든다!\\n이 책은 생활 프로그래머 김창현 박사가 일상과 업무에서 <b>파이썬</b> 프로그래밍을 활용한 경험을... 이 프로그램들은 <b>파이썬</b> 문법을 한 번이라도 배운 적이 있는 사람이라면 누구나 따라 할 수 있는... ',\n",
              "  'discount': '18000',\n",
              "  'image': 'https://bookthumb-phinf.pstatic.net/cover/164/370/16437083.jpg?type=m1&udate=20200902',\n",
              "  'isbn': '1163031739 9791163031734',\n",
              "  'link': 'http://book.naver.com/bookdb/book_detail.php?bid=16437083',\n",
              "  'price': '20000',\n",
              "  'pubdate': '20200727',\n",
              "  'publisher': '이지스퍼블리싱',\n",
              "  'title': 'Do it! <b>파이썬</b> 생활 프로그래밍 (웹 크롤링부터 데이터 분석까지 내 손으로 직접 만든다!)'},\n",
              " {'author': '송석리|이현아',\n",
              "  'description': '데이터 다운로드부터 정제, 문제 해결 방법 구상, <b>파이썬</b> 코드로 구현까지 차근차근 진행하면서, 초보자가 데이터 분석의 성공적인 첫걸음을 내딛도록... 최소한의 <b>파이썬</b> 문법만을 사용하여 설명하므로 프로그래밍 경험이 적은 사람도 충분히 따라 할 수 있습니다. 이제 데이터 분석 전문가가 아니어도, 자신의... ',\n",
              "  'discount': '16200',\n",
              "  'image': 'https://bookthumb-phinf.pstatic.net/cover/148/205/14820571.jpg?type=m1&udate=20200916',\n",
              "  'isbn': '1160507813 9791160507812',\n",
              "  'link': 'http://book.naver.com/bookdb/book_detail.php?bid=14820571',\n",
              "  'price': '18000',\n",
              "  'pubdate': '20190425',\n",
              "  'publisher': '길벗',\n",
              "  'title': '모두의 데이터 분석 with <b>파이썬</b> (실생활 예제로 시작하는 데이터 분석 첫걸음)'},\n",
              " {'author': '이승찬',\n",
              "  'description': '<b>파이썬</b> 분야 & 어린이 코딩 교육 분야\\n2년 연속 베스트셀러! 개정판 출간!\\n\\n즐겁게 시작하는 나의 첫 프로그래밍!\\n프로그래밍을 한 번도 해본 적이 없어도 괜찮다. <b>파이썬</b>이 무엇인지 몰라도 상관 없다.... 어느새 <b>파이썬</b> 프로그램으로 멋진 그림을 그리고, 계산을 하고, 간단한 게임을 만들고, 수학 문제를... ',\n",
              "  'discount': '10800',\n",
              "  'image': 'https://bookthumb-phinf.pstatic.net/cover/141/261/14126163.jpg?type=m1&udate=20181105',\n",
              "  'isbn': '1160505853 9791160505856',\n",
              "  'link': 'http://book.naver.com/bookdb/book_detail.php?bid=14126163',\n",
              "  'price': '12000',\n",
              "  'pubdate': '20181009',\n",
              "  'publisher': '길벗',\n",
              "  'title': '모두의 <b>파이썬</b> (20일 만에 배우는 프로그래밍 기초)'}]"
            ]
          },
          "metadata": {
            "tags": []
          },
          "execution_count": 30
        }
      ]
    },
    {
      "cell_type": "code",
      "metadata": {
        "id": "5wSWkdzNyiKf",
        "outputId": "1b20f76c-14d3-467c-feb7-be5cb331e4bb",
        "colab": {
          "base_uri": "https://localhost:8080/"
        }
      },
      "source": [
        "len(result[\"items\"])"
      ],
      "execution_count": null,
      "outputs": [
        {
          "output_type": "execute_result",
          "data": {
            "text/plain": [
              "10"
            ]
          },
          "metadata": {
            "tags": []
          },
          "execution_count": 32
        }
      ]
    },
    {
      "cell_type": "code",
      "metadata": {
        "id": "R8UYEwI9ys6z",
        "outputId": "6b90860f-e676-4a67-b384-64cbb9e7e8e0",
        "colab": {
          "base_uri": "https://localhost:8080/",
          "height": 35
        }
      },
      "source": [
        "result[\"items\"][1][\"title\"]"
      ],
      "execution_count": null,
      "outputs": [
        {
          "output_type": "execute_result",
          "data": {
            "application/vnd.google.colaboratory.intrinsic+json": {
              "type": "string"
            },
            "text/plain": [
              "'<b>파이썬</b> 알고리즘 인터뷰 (95가지 알고리즘 문제 풀이로 완성하는 코딩 테스트)'"
            ]
          },
          "metadata": {
            "tags": []
          },
          "execution_count": 34
        }
      ]
    },
    {
      "cell_type": "code",
      "metadata": {
        "id": "93bjkDP1y1Yv"
      },
      "source": [
        "titles = [result[\"items\"][n][\"title\"] for n in range(len(result[\"items\"]))]"
      ],
      "execution_count": null,
      "outputs": []
    },
    {
      "cell_type": "code",
      "metadata": {
        "id": "7L7oCjwozVF8"
      },
      "source": [
        "authors = [result[\"items\"][n][\"author\"] for n in range(len(result[\"items\"]))]"
      ],
      "execution_count": null,
      "outputs": []
    },
    {
      "cell_type": "code",
      "metadata": {
        "id": "8se-4_9n1AlQ"
      },
      "source": [
        "pubdates = [result[\"items\"][n][\"pubdate\"] for n in range(len(result[\"items\"]))]"
      ],
      "execution_count": null,
      "outputs": []
    },
    {
      "cell_type": "markdown",
      "metadata": {
        "id": "a4_6ocTy2D-B"
      },
      "source": [
        "데이터프레임으로 세 항목을 엮기"
      ]
    },
    {
      "cell_type": "code",
      "metadata": {
        "id": "nu51TDzi19oG",
        "outputId": "f30c98a1-5ae9-4d4c-80c1-213f6fdd7a0f",
        "colab": {
          "base_uri": "https://localhost:8080/",
          "height": 340
        }
      },
      "source": [
        "import pandas as pd\n",
        "pd.DataFrame({\"책제목\": titles, \"작가\": authors, \"출판일\": pubdates})"
      ],
      "execution_count": null,
      "outputs": [
        {
          "output_type": "execute_result",
          "data": {
            "text/html": [
              "<div>\n",
              "<style scoped>\n",
              "    .dataframe tbody tr th:only-of-type {\n",
              "        vertical-align: middle;\n",
              "    }\n",
              "\n",
              "    .dataframe tbody tr th {\n",
              "        vertical-align: top;\n",
              "    }\n",
              "\n",
              "    .dataframe thead th {\n",
              "        text-align: right;\n",
              "    }\n",
              "</style>\n",
              "<table border=\"1\" class=\"dataframe\">\n",
              "  <thead>\n",
              "    <tr style=\"text-align: right;\">\n",
              "      <th></th>\n",
              "      <th>책제목</th>\n",
              "      <th>작가</th>\n",
              "      <th>출판일</th>\n",
              "    </tr>\n",
              "  </thead>\n",
              "  <tbody>\n",
              "    <tr>\n",
              "      <th>0</th>\n",
              "      <td>이것이 취업을 위한 코딩 테스트다 with &lt;b&gt;파이썬&lt;/b&gt; (취업과 이직을 결정...</td>\n",
              "      <td>나동빈</td>\n",
              "      <td>20200805</td>\n",
              "    </tr>\n",
              "    <tr>\n",
              "      <th>1</th>\n",
              "      <td>&lt;b&gt;파이썬&lt;/b&gt; 알고리즘 인터뷰 (95가지 알고리즘 문제 풀이로 완성하는 코딩 ...</td>\n",
              "      <td>박상길</td>\n",
              "      <td>20200715</td>\n",
              "    </tr>\n",
              "    <tr>\n",
              "      <th>2</th>\n",
              "      <td>혼자 공부하는 &lt;b&gt;파이썬&lt;/b&gt; (&lt;b&gt;파이썬&lt;/b&gt; 최신 버전 반영)</td>\n",
              "      <td>윤인성</td>\n",
              "      <td>20190610</td>\n",
              "    </tr>\n",
              "    <tr>\n",
              "      <th>3</th>\n",
              "      <td>Do it! 점프 투 &lt;b&gt;파이썬&lt;/b&gt;</td>\n",
              "      <td>박응용</td>\n",
              "      <td>20190620</td>\n",
              "    </tr>\n",
              "    <tr>\n",
              "      <th>4</th>\n",
              "      <td>&lt;b&gt;파이썬&lt;/b&gt; 증권 데이터 분석 (&lt;b&gt;파이썬&lt;/b&gt; 입문, 웹 스크레이핑, ...</td>\n",
              "      <td>김황후</td>\n",
              "      <td>20200701</td>\n",
              "    </tr>\n",
              "    <tr>\n",
              "      <th>5</th>\n",
              "      <td>&lt;b&gt;파이썬&lt;/b&gt; 머신러닝 완벽 가이드 (다양한 캐글 예제와 함께 기초 알고리즘부...</td>\n",
              "      <td>권철민</td>\n",
              "      <td>20200207</td>\n",
              "    </tr>\n",
              "    <tr>\n",
              "      <th>6</th>\n",
              "      <td>&lt;b&gt;파이썬&lt;/b&gt; for Beginner (쉽고 빠르게 익히는 프로그래밍의 기본 원리)</td>\n",
              "      <td>우재남</td>\n",
              "      <td>20200106</td>\n",
              "    </tr>\n",
              "    <tr>\n",
              "      <th>7</th>\n",
              "      <td>Do it! &lt;b&gt;파이썬&lt;/b&gt; 생활 프로그래밍 (웹 크롤링부터 데이터 분석까지 내...</td>\n",
              "      <td>김창현</td>\n",
              "      <td>20200727</td>\n",
              "    </tr>\n",
              "    <tr>\n",
              "      <th>8</th>\n",
              "      <td>모두의 데이터 분석 with &lt;b&gt;파이썬&lt;/b&gt; (실생활 예제로 시작하는 데이터 분...</td>\n",
              "      <td>송석리|이현아</td>\n",
              "      <td>20190425</td>\n",
              "    </tr>\n",
              "    <tr>\n",
              "      <th>9</th>\n",
              "      <td>모두의 &lt;b&gt;파이썬&lt;/b&gt; (20일 만에 배우는 프로그래밍 기초)</td>\n",
              "      <td>이승찬</td>\n",
              "      <td>20181009</td>\n",
              "    </tr>\n",
              "  </tbody>\n",
              "</table>\n",
              "</div>"
            ],
            "text/plain": [
              "                                                 책제목       작가       출판일\n",
              "0  이것이 취업을 위한 코딩 테스트다 with <b>파이썬</b> (취업과 이직을 결정...      나동빈  20200805\n",
              "1  <b>파이썬</b> 알고리즘 인터뷰 (95가지 알고리즘 문제 풀이로 완성하는 코딩 ...      박상길  20200715\n",
              "2           혼자 공부하는 <b>파이썬</b> (<b>파이썬</b> 최신 버전 반영)      윤인성  20190610\n",
              "3                             Do it! 점프 투 <b>파이썬</b>      박응용  20190620\n",
              "4  <b>파이썬</b> 증권 데이터 분석 (<b>파이썬</b> 입문, 웹 스크레이핑, ...      김황후  20200701\n",
              "5  <b>파이썬</b> 머신러닝 완벽 가이드 (다양한 캐글 예제와 함께 기초 알고리즘부...      권철민  20200207\n",
              "6  <b>파이썬</b> for Beginner (쉽고 빠르게 익히는 프로그래밍의 기본 원리)      우재남  20200106\n",
              "7  Do it! <b>파이썬</b> 생활 프로그래밍 (웹 크롤링부터 데이터 분석까지 내...      김창현  20200727\n",
              "8  모두의 데이터 분석 with <b>파이썬</b> (실생활 예제로 시작하는 데이터 분...  송석리|이현아  20190425\n",
              "9               모두의 <b>파이썬</b> (20일 만에 배우는 프로그래밍 기초)      이승찬  20181009"
            ]
          },
          "metadata": {
            "tags": []
          },
          "execution_count": 52
        }
      ]
    },
    {
      "cell_type": "markdown",
      "metadata": {
        "id": "asmBjwC23e6Z"
      },
      "source": [
        "함수로 전과정을 한번에 처리"
      ]
    },
    {
      "cell_type": "code",
      "metadata": {
        "id": "PSxzvSH22ZVF"
      },
      "source": [
        "def get_dataFrame(url):\n",
        "  request = urllib.request.Request(url)\n",
        "  request.add_header(\"X-Naver-Client-Id\", client_id)\n",
        "  request.add_header(\"X-Naver-Client-Secret\", client_secret)    #인증\n",
        "  response = urllib.request.urlopen(request)\n",
        "  result = json.loads(response.read().decode('utf-8'))    #불러오기\n",
        "  titles = [result[\"items\"][n][\"title\"].replace(\"<b>\",\"\").replace(\"</b>\",\"\") for n in range(len(result[\"items\"]))] #replace함수로 태그를 제거해서 깔끔하게 만든다.\n",
        "  authors = [result[\"items\"][n][\"author\"] for n in range(len(result[\"items\"]))]\n",
        "  pubdates = [result[\"items\"][n][\"pubdate\"] for n in range(len(result[\"items\"]))]\n",
        "  return pd.DataFrame({\"책제목\":titles,\"작가\":authors,\"출판일\":pubdates})#데이터프레임 만들기"
      ],
      "execution_count": null,
      "outputs": []
    },
    {
      "cell_type": "code",
      "metadata": {
        "id": "p47-6qJT4krO",
        "outputId": "80856b32-4eb1-4493-a909-13ae7f8514a4",
        "colab": {
          "base_uri": "https://localhost:8080/",
          "height": 340
        }
      },
      "source": [
        "get_dataFrame(url)"
      ],
      "execution_count": null,
      "outputs": [
        {
          "output_type": "execute_result",
          "data": {
            "text/html": [
              "<div>\n",
              "<style scoped>\n",
              "    .dataframe tbody tr th:only-of-type {\n",
              "        vertical-align: middle;\n",
              "    }\n",
              "\n",
              "    .dataframe tbody tr th {\n",
              "        vertical-align: top;\n",
              "    }\n",
              "\n",
              "    .dataframe thead th {\n",
              "        text-align: right;\n",
              "    }\n",
              "</style>\n",
              "<table border=\"1\" class=\"dataframe\">\n",
              "  <thead>\n",
              "    <tr style=\"text-align: right;\">\n",
              "      <th></th>\n",
              "      <th>책제목</th>\n",
              "      <th>작가</th>\n",
              "      <th>출판일</th>\n",
              "    </tr>\n",
              "  </thead>\n",
              "  <tbody>\n",
              "    <tr>\n",
              "      <th>0</th>\n",
              "      <td>이것이 취업을 위한 코딩 테스트다 with 파이썬 (취업과 이직을 결정하는 알고리즘...</td>\n",
              "      <td>나동빈</td>\n",
              "      <td>20200805</td>\n",
              "    </tr>\n",
              "    <tr>\n",
              "      <th>1</th>\n",
              "      <td>파이썬 알고리즘 인터뷰 (95가지 알고리즘 문제 풀이로 완성하는 코딩 테스트)</td>\n",
              "      <td>박상길</td>\n",
              "      <td>20200715</td>\n",
              "    </tr>\n",
              "    <tr>\n",
              "      <th>2</th>\n",
              "      <td>혼자 공부하는 파이썬 (파이썬 최신 버전 반영)</td>\n",
              "      <td>윤인성</td>\n",
              "      <td>20190610</td>\n",
              "    </tr>\n",
              "    <tr>\n",
              "      <th>3</th>\n",
              "      <td>Do it! 점프 투 파이썬</td>\n",
              "      <td>박응용</td>\n",
              "      <td>20190620</td>\n",
              "    </tr>\n",
              "    <tr>\n",
              "      <th>4</th>\n",
              "      <td>파이썬 증권 데이터 분석 (파이썬 입문, 웹 스크레이핑, 트레이딩 전략, 자동 매매)</td>\n",
              "      <td>김황후</td>\n",
              "      <td>20200701</td>\n",
              "    </tr>\n",
              "    <tr>\n",
              "      <th>5</th>\n",
              "      <td>파이썬 머신러닝 완벽 가이드 (다양한 캐글 예제와 함께 기초 알고리즘부터 최신 기법...</td>\n",
              "      <td>권철민</td>\n",
              "      <td>20200207</td>\n",
              "    </tr>\n",
              "    <tr>\n",
              "      <th>6</th>\n",
              "      <td>파이썬 for Beginner (쉽고 빠르게 익히는 프로그래밍의 기본 원리)</td>\n",
              "      <td>우재남</td>\n",
              "      <td>20200106</td>\n",
              "    </tr>\n",
              "    <tr>\n",
              "      <th>7</th>\n",
              "      <td>Do it! 파이썬 생활 프로그래밍 (웹 크롤링부터 데이터 분석까지 내 손으로 직접...</td>\n",
              "      <td>김창현</td>\n",
              "      <td>20200727</td>\n",
              "    </tr>\n",
              "    <tr>\n",
              "      <th>8</th>\n",
              "      <td>모두의 데이터 분석 with 파이썬 (실생활 예제로 시작하는 데이터 분석 첫걸음)</td>\n",
              "      <td>송석리|이현아</td>\n",
              "      <td>20190425</td>\n",
              "    </tr>\n",
              "    <tr>\n",
              "      <th>9</th>\n",
              "      <td>모두의 파이썬 (20일 만에 배우는 프로그래밍 기초)</td>\n",
              "      <td>이승찬</td>\n",
              "      <td>20181009</td>\n",
              "    </tr>\n",
              "  </tbody>\n",
              "</table>\n",
              "</div>"
            ],
            "text/plain": [
              "                                                 책제목       작가       출판일\n",
              "0  이것이 취업을 위한 코딩 테스트다 with 파이썬 (취업과 이직을 결정하는 알고리즘...      나동빈  20200805\n",
              "1        파이썬 알고리즘 인터뷰 (95가지 알고리즘 문제 풀이로 완성하는 코딩 테스트)      박상길  20200715\n",
              "2                         혼자 공부하는 파이썬 (파이썬 최신 버전 반영)      윤인성  20190610\n",
              "3                                    Do it! 점프 투 파이썬      박응용  20190620\n",
              "4    파이썬 증권 데이터 분석 (파이썬 입문, 웹 스크레이핑, 트레이딩 전략, 자동 매매)      김황후  20200701\n",
              "5  파이썬 머신러닝 완벽 가이드 (다양한 캐글 예제와 함께 기초 알고리즘부터 최신 기법...      권철민  20200207\n",
              "6         파이썬 for Beginner (쉽고 빠르게 익히는 프로그래밍의 기본 원리)      우재남  20200106\n",
              "7  Do it! 파이썬 생활 프로그래밍 (웹 크롤링부터 데이터 분석까지 내 손으로 직접...      김창현  20200727\n",
              "8      모두의 데이터 분석 with 파이썬 (실생활 예제로 시작하는 데이터 분석 첫걸음)  송석리|이현아  20190425\n",
              "9                      모두의 파이썬 (20일 만에 배우는 프로그래밍 기초)      이승찬  20181009"
            ]
          },
          "metadata": {
            "tags": []
          },
          "execution_count": 58
        }
      ]
    },
    {
      "cell_type": "markdown",
      "metadata": {
        "id": "N_2GN3-rAFNp"
      },
      "source": [
        "displya 최댓값이 100개. 1,101,201...등등으로 끊기"
      ]
    },
    {
      "cell_type": "code",
      "metadata": {
        "id": "9I66eo334mJ6"
      },
      "source": [
        "result_search = []\n",
        "\n",
        "for n in range(1,300,100):\n",
        "  url=create_url(\"book\",\"파이썬\",n,100)\n",
        "  result_search.append(get_dataFrame(url))\n",
        "\n",
        "result_search = pd.concat(result_search)"
      ],
      "execution_count": null,
      "outputs": []
    },
    {
      "cell_type": "code",
      "metadata": {
        "id": "5cSZ_yqUAr_G",
        "outputId": "8f77f44c-0535-4166-e90b-21cd2998faca",
        "colab": {
          "base_uri": "https://localhost:8080/"
        }
      },
      "source": [
        "result_search.head"
      ],
      "execution_count": null,
      "outputs": [
        {
          "output_type": "execute_result",
          "data": {
            "text/plain": [
              "<bound method NDFrame.head of                                                  책제목               작가       출판일\n",
              "0  이것이 취업을 위한 코딩 테스트다 with 파이썬 (취업과 이직을 결정하는 알고리즘...              나동빈  20200805\n",
              "1        파이썬 알고리즘 인터뷰 (95가지 알고리즘 문제 풀이로 완성하는 코딩 테스트)              박상길  20200715\n",
              "2                         혼자 공부하는 파이썬 (파이썬 최신 버전 반영)              윤인성  20190610\n",
              "3                                    Do it! 점프 투 파이썬              박응용  20190620\n",
              "4    파이썬 증권 데이터 분석 (파이썬 입문, 웹 스크레이핑, 트레이딩 전략, 자동 매매)              김황후  20200701\n",
              "5  파이썬 머신러닝 완벽 가이드 (다양한 캐글 예제와 함께 기초 알고리즘부터 최신 기법...              권철민  20200207\n",
              "6         파이썬 for Beginner (쉽고 빠르게 익히는 프로그래밍의 기본 원리)              우재남  20200106\n",
              "7  Do it! 파이썬 생활 프로그래밍 (웹 크롤링부터 데이터 분석까지 내 손으로 직접...              김창현  20200727\n",
              "8      모두의 데이터 분석 with 파이썬 (실생활 예제로 시작하는 데이터 분석 첫걸음)          송석리|이현아  20190425\n",
              "9                      모두의 파이썬 (20일 만에 배우는 프로그래밍 기초)              이승찬  20181009\n",
              "0                                         핵심만 쏙쏙 파이썬      양숙희|오경선|장은실  20200210\n",
              "1      파이썬에 참 좋은 PyCharm (나에게 가장 필요한 파이썬 개발 환경 구축하기)              테리엇  20191031\n",
              "2                                     파이썬으로 무인도 탈출하기      박정호|안해민|박찬솔  20190816\n",
              "3                        한권으로 파이썬 데이터 사이언스 입문 A to Z          문용준|문성혁  20200102\n",
              "4                             파이썬 (문제해결과 컴퓨팅 사고를 위한)              천인국  20170830\n",
              "5                    컴퓨팅 사고와 함께하는 파이썬 기초부터 인공지능 응용까지      김성백|김철민|박찬정  20191220\n",
              "6   초보자도 간단히 단숨에 배우는 파이썬 (동영상 강의로 빠르게 시작하는 프로그래밍 입문)              조인석  20200413\n",
              "7                           파이썬 프로그래밍으로 지루한 작업 자동화하기          알 스웨이가트  20170222\n",
              "8                           비공대생을 위한 코딩 첫걸음 with 파이썬  김일민|홍희경|유상미|노은희  20200901\n",
              "9  고전 컴퓨터 알고리즘 인 파이썬 (피보나치 수열부터 보드게임까지, 알고리즘으로 풀어...          데이비드 코펙  20191201\n",
              "0                             아두이노와 피지컬 컴퓨팅 with 파이썬      이원규|김자미|장윤재  20181220\n",
              "1                         Step by Step 파이썬 비즈니스 통계분석              김형수  20200725\n",
              "2                 깐깐하게 배우는 파이썬 3 (기본기를 다져주는 단계별 학습법)             제드 쇼  20190122\n",
              "3      파이썬 네트워크 프로그래밍(IOT 사물인터넷을 위한) (IoT 사물인터넷을 위한)              서열규  20200110\n",
              "4     파이썬으로 배우는 금융분석 (금융의 기초 개념 이해부터 예제를 통한 계산 활용까지)             유씽 얀  20171129\n",
              "5                          파이썬 입문 A to Z (반드시 알아야 할)      문용준|문성혁|박재일  20190617\n",
              "6                                  스타트업 ICDL 컴퓨팅 파이썬              박우창  20191115\n",
              "7    파이썬으로 풀어보는 수학 (코드로 통계, 확률, 미적분과 같은 다양한 수학 탐험하기)           아미트 사하  20160628\n",
              "8                                  파이썬 (과학적 컴퓨팅을 위한)              이정환  20190902\n",
              "9                    파이썬으로 시작하는 코딩 (나만의 게임을 만들어 보자!)   브라이언 칼링|말리 아데어  20180910>"
            ]
          },
          "metadata": {
            "tags": []
          },
          "execution_count": 63
        }
      ]
    },
    {
      "cell_type": "code",
      "metadata": {
        "id": "VzJYqljUA2Rj",
        "outputId": "8aff4dab-336b-410d-93f3-5d3661626ae9",
        "colab": {
          "base_uri": "https://localhost:8080/"
        }
      },
      "source": [
        "result_search.info()"
      ],
      "execution_count": null,
      "outputs": [
        {
          "output_type": "stream",
          "text": [
            "<class 'pandas.core.frame.DataFrame'>\n",
            "Int64Index: 30 entries, 0 to 9\n",
            "Data columns (total 3 columns):\n",
            " #   Column  Non-Null Count  Dtype \n",
            "---  ------  --------------  ----- \n",
            " 0   책제목     30 non-null     object\n",
            " 1   작가      30 non-null     object\n",
            " 2   출판일     30 non-null     object\n",
            "dtypes: object(3)\n",
            "memory usage: 960.0+ bytes\n"
          ],
          "name": "stdout"
        }
      ]
    },
    {
      "cell_type": "markdown",
      "metadata": {
        "id": "KLr-oFhODbjL"
      },
      "source": [
        "엑셀로 저장하기"
      ]
    },
    {
      "cell_type": "code",
      "metadata": {
        "id": "8GTdAFwKCrC1",
        "outputId": "5a01f581-82f9-4c24-836c-0de60ad740f4",
        "colab": {
          "base_uri": "https://localhost:8080/"
        }
      },
      "source": [
        "pip install xlsxwriter"
      ],
      "execution_count": null,
      "outputs": [
        {
          "output_type": "stream",
          "text": [
            "Collecting xlsxwriter\n",
            "\u001b[?25l  Downloading https://files.pythonhosted.org/packages/6b/41/bf1aae04932d1eaffee1fc5f8b38ca47bbbf07d765129539bc4bcce1ce0c/XlsxWriter-1.3.7-py2.py3-none-any.whl (144kB)\n",
            "\r\u001b[K     |██▎                             | 10kB 16.7MB/s eta 0:00:01\r\u001b[K     |████▌                           | 20kB 1.8MB/s eta 0:00:01\r\u001b[K     |██████▉                         | 30kB 2.3MB/s eta 0:00:01\r\u001b[K     |█████████                       | 40kB 2.5MB/s eta 0:00:01\r\u001b[K     |███████████▎                    | 51kB 2.0MB/s eta 0:00:01\r\u001b[K     |█████████████▋                  | 61kB 2.3MB/s eta 0:00:01\r\u001b[K     |███████████████▉                | 71kB 2.5MB/s eta 0:00:01\r\u001b[K     |██████████████████▏             | 81kB 2.8MB/s eta 0:00:01\r\u001b[K     |████████████████████▍           | 92kB 2.9MB/s eta 0:00:01\r\u001b[K     |██████████████████████▋         | 102kB 2.8MB/s eta 0:00:01\r\u001b[K     |█████████████████████████       | 112kB 2.8MB/s eta 0:00:01\r\u001b[K     |███████████████████████████▏    | 122kB 2.8MB/s eta 0:00:01\r\u001b[K     |█████████████████████████████▌  | 133kB 2.8MB/s eta 0:00:01\r\u001b[K     |███████████████████████████████▊| 143kB 2.8MB/s eta 0:00:01\r\u001b[K     |████████████████████████████████| 153kB 2.8MB/s \n",
            "\u001b[?25hInstalling collected packages: xlsxwriter\n",
            "Successfully installed xlsxwriter-1.3.7\n"
          ],
          "name": "stdout"
        }
      ]
    },
    {
      "cell_type": "code",
      "metadata": {
        "id": "CrX5hKQ-A77D"
      },
      "source": [
        "#pip install xlsxwriter \n",
        "#엑셀 저장할 때 사용\n",
        "\n",
        "writer = pd.ExcelWriter(\"books.xlsx\",engine = \"xlsxwriter\")\n",
        "\n",
        "result_search.to_excel(writer, sheet_name='Sheet1')\n",
        "\n",
        "workbook = writer.book\n",
        "worksheet = writer.sheets['Sheet1']\n",
        "\n",
        "format_center = workbook.add_format({'text_wrap':True})\n",
        "format_center.set_align('center')\n",
        "format_center.set_align('vcenter')\n",
        "\n",
        "worksheet.set_column('A:A',5)\n",
        "worksheet.set_column('B:B',90,format_center)\n",
        "worksheet.set_column('C:C',40,format_center)\n",
        "worksheet.set_column('D:D',15)\n",
        "writer.save()"
      ],
      "execution_count": null,
      "outputs": []
    },
    {
      "cell_type": "markdown",
      "metadata": {
        "id": "gClCdNezsEM4"
      },
      "source": [
        "카페 게시글에서 찾을 단어를 입력받아 입력갯수만큼 출력하기"
      ]
    },
    {
      "cell_type": "code",
      "metadata": {
        "id": "X2HB-pokBqtE"
      },
      "source": [
        "import urllib.request\n",
        "import json\n",
        "import pandas as pd\n",
        "\n",
        "name=input(\"찾을 단어를 입력하세요 : \")\n",
        "num = int(input(\"몇 개 찾을까요?\"))\n",
        "\n",
        "client_id = \"PcadxlHpoofakp4E0Kz5\"\n",
        "client_secret = \"P0qDLr6sEW\"\n",
        "\n",
        "def create_url(api_node, search_text, start_num, disp_num):\n",
        "  base = \"https://openapi.naver.com/v1/search\"\n",
        "  node = \"/\" + api_node + \".json\"\n",
        "  param_query = \"?query=\" + urllib.parse.quote(search_text)\n",
        "  param_start = \"&start=\" + str(start_num)\n",
        "  param_disp = \"&display\" + str(disp_num)\n",
        "  return base + node + param_query + param_start + param_disp\n",
        "\n",
        "url = create_url(\"cafearticle\",name,1,num)\n",
        "\n",
        "def get_dataFrame(url):\n",
        "  request = urllib.request.Request(url)\n",
        "  request.add_header(\"X-Naver-Client-Id\", client_id)\n",
        "  request.add_header(\"X-Naver-Client-Secret\", client_secret)    #인증\n",
        "  response = urllib.request.urlopen(request)\n",
        "  result = json.loads(response.read().decode('utf-8'))    #불러오기\n",
        "  titles = [result[\"items\"][n][\"title\"].replace(\"<b>\",\"\").replace(\"</b>\",\"\") for n in range(num)]\n",
        "  description = [result[\"items\"][n][\"description\"].replace(\"<b>\",\"\").replace(\"</b>\",\"\") for n in range(num)]\n",
        "  link = [result[\"items\"][n][\"link\"] for n in range(num)]#카페글 전과정\n",
        "  return pd.DataFrame({\"제목\" : titles, \"내용\":description, \"링크\":link})#데이터프레임 만들기\n",
        "\n",
        "get_dataFrame(url)"
      ],
      "execution_count": null,
      "outputs": []
    }
  ]
}